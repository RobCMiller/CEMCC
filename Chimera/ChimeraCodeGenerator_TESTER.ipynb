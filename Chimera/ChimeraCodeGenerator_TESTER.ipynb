{
 "cells": [
  {
   "cell_type": "code",
   "execution_count": 1,
   "id": "e241e6b4",
   "metadata": {},
   "outputs": [],
   "source": [
    "from ChimeraCmdGenerator import *"
   ]
  },
  {
   "cell_type": "code",
   "execution_count": 2,
   "id": "0ad12cf7",
   "metadata": {},
   "outputs": [
    {
     "name": "stdout",
     "output_type": "stream",
     "text": [
      "The available functions are: \n",
      "alignMaps\n",
      "alignStructures\n",
      "buildZoneMap\n",
      "colorByLocalResolution\n",
      "displaySettings\n",
      "import_and_initializeChimera\n",
      "localCorrelationBtwVolumes\n",
      "morphBtwMaps\n",
      "\n",
      "All commands should accept the helpCmd=True flag and list the function inputs/outputs\n"
     ]
    }
   ],
   "source": [
    "ChimeraCmds = ChimeraCmdGenerator(mrcDirectory='~/rob/Documents/Projects/',\n",
    "                                 pdbDirectory='~/rob/Documents/Projects/')"
   ]
  },
  {
   "cell_type": "code",
   "execution_count": 3,
   "id": "08a39be4",
   "metadata": {},
   "outputs": [
    {
     "name": "stdout",
     "output_type": "stream",
     "text": [
      "open ~/rob/Documents/Projects/*.mrc ; open ~/rob/Documents/Projects/*.pdb ; lighting mode two-point ;  lighting brightness 1.12 ; lighting contrast 0.73 ; lighting ratio 1.55 ;  set dcStart 0.25 ;  set dcEnd 0.5 ;  set depthCue ;   set silhouetteWidth 6 ;  set silhouette ;  set singleLayer ;\n"
     ]
    }
   ],
   "source": [
    "initialzeCmd = ChimeraCmds.import_and_initializeChimera()"
   ]
  },
  {
   "cell_type": "code",
   "execution_count": 4,
   "id": "29fd0c70",
   "metadata": {},
   "outputs": [
    {
     "name": "stdout",
     "output_type": "stream",
     "text": [
      "This command requires no inputs\n",
      "It will generate a set of commands that import .mrc and .pdb files from a particular directory and change the view settings of the session.\n",
      "\n",
      "No Command Generated - Help command called\n"
     ]
    }
   ],
   "source": [
    "initialzeCmd = ChimeraCmds.import_and_initializeChimera(helpCmd=True)\n",
    "\n",
    "print('')\n",
    "print(initialzeCmd)"
   ]
  },
  {
   "cell_type": "code",
   "execution_count": 5,
   "id": "48ae1904",
   "metadata": {},
   "outputs": [
    {
     "name": "stdout",
     "output_type": "stream",
     "text": [
      "This command requires 4 inputs:\n",
      "surface: the surface to be colored (default #0\n",
      "LocResMap: data file used to color surface (default #1\n",
      "resolutionRange: range of data values to color surface over (default ['2.5','3.5','6.0'])\n",
      "resolutionColors: colors to map over the range of data values (default ['#1177c2','#9b9c9c','#da2f05'])\n"
     ]
    }
   ],
   "source": [
    "locResCmd, colorKey = ChimeraCmds.colorByLocalResolution(helpCmd=True)"
   ]
  },
  {
   "cell_type": "code",
   "execution_count": 6,
   "id": "fe640568",
   "metadata": {},
   "outputs": [
    {
     "name": "stdout",
     "output_type": "stream",
     "text": [
      "scolor #0 volume #1 cmap 2.5,#1177c2:3.5,#9b9c9c:6.0,#da2f05 ; surftransparency 30 #0 ; \n",
      "colorkey 0.94,0.9 0.97,0.1 fontSize 48 fontStyle bold borderColor black borderWidth 8 2.5 #1177c23.5 #9b9c9c6.0 #da2f05\n"
     ]
    }
   ],
   "source": [
    "locResCmd, colorKey = ChimeraCmds.colorByLocalResolution()"
   ]
  },
  {
   "cell_type": "code",
   "execution_count": 7,
   "id": "3f68e782",
   "metadata": {},
   "outputs": [
    {
     "name": "stdout",
     "output_type": "stream",
     "text": [
      "This function requires 4 inputs:\n",
      "map: the map to cut out of (default: #0)\n",
      "model: reference model for cutting map around (default: #1)\n",
      "specifier: where specifically in the map/model to cut the zone map (default: 1-20.A@ca - residues 1-20 of chain A, just the alpha carbons)\n",
      "cutRadius: diameter of zone map to cut around, which is adjusted via threshold values (default: 1.5 - in Angstroms)\n"
     ]
    }
   ],
   "source": [
    "zoneMapCmd = ChimeraCmds.buildZoneMap(helpCmd=True)"
   ]
  },
  {
   "cell_type": "code",
   "execution_count": 8,
   "id": "4a754bfd",
   "metadata": {},
   "outputs": [
    {
     "name": "stdout",
     "output_type": "stream",
     "text": [
      "vop zone #0 #1:1-20.A@ca radius 1.5\n"
     ]
    }
   ],
   "source": [
    "zoneMapCmd = ChimeraCmds.buildZoneMap()"
   ]
  },
  {
   "cell_type": "code",
   "execution_count": null,
   "id": "04a7c210",
   "metadata": {},
   "outputs": [],
   "source": []
  }
 ],
 "metadata": {
  "kernelspec": {
   "display_name": "Python 3",
   "language": "python",
   "name": "python3"
  },
  "language_info": {
   "codemirror_mode": {
    "name": "ipython",
    "version": 3
   },
   "file_extension": ".py",
   "mimetype": "text/x-python",
   "name": "python",
   "nbconvert_exporter": "python",
   "pygments_lexer": "ipython3",
   "version": "3.7.10"
  }
 },
 "nbformat": 4,
 "nbformat_minor": 5
}
